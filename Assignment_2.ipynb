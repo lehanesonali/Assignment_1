{
 "cells": [
  {
   "cell_type": "markdown",
   "id": "fb03f2d6",
   "metadata": {},
   "source": [
    "Q1.What are the two values of the Boolean data type? How do you write them?"
   ]
  },
  {
   "cell_type": "code",
   "execution_count": 2,
   "id": "cc1d66ea",
   "metadata": {},
   "outputs": [],
   "source": [
    "Ans:- 1. True.\n",
    "       2. False.\n",
    "        For ex: print(10==20) #False\n",
    "                print(10==10) # True\n",
    "            "
   ]
  },
  {
   "cell_type": "markdown",
   "id": "b4a626ac",
   "metadata": {},
   "source": [
    "Q2. What are the three different types of Boolean operators?"
   ]
  },
  {
   "cell_type": "code",
   "execution_count": null,
   "id": "d22e894a",
   "metadata": {},
   "outputs": [],
   "source": [
    "Ans:- There are three basic boolean operators\n",
    "      AND,OR,and NOT."
   ]
  },
  {
   "cell_type": "markdown",
   "id": "8fc304f4",
   "metadata": {},
   "source": [
    "Q3. Make a list of each Boolean operator's truth tables (i.e. every possible combination of Boolean\n",
    "values for the operator and what it evaluate ).\n"
   ]
  },
  {
   "cell_type": "markdown",
   "id": "106b674d",
   "metadata": {},
   "source": [
    "Ans:- True and True is True.\n",
    "\n",
    "True and False is False.\n",
    "\n",
    "False and True is False.\n",
    "\n",
    "False and False is False.\n",
    "\n",
    "True or True is True.\n",
    "\n",
    "True or False is True.\n",
    "\n",
    "False or True is True.\n",
    "\n",
    "False or False is False.\n",
    "\n",
    "not True is False.\n",
    "\n",
    "not False is True.\n",
    "\n",
    "\n",
    "True is 1 and False is 0\n",
    "\n",
    "\n",
    "Truth Table for AND\n",
    "A B output\n",
    "0 0 0\n",
    "0 1 0\n",
    "1 0 0\n",
    "1 1 1\n",
    "Truth Table for OR\n",
    "A B output\n",
    "0 0 0\n",
    "0 1 1\n",
    "1 0 1\n",
    "1 1 1\n",
    "Truth Table for NOT\n",
    "A output\n",
    "0 1\n",
    "1 0"
   ]
  },
  {
   "cell_type": "markdown",
   "id": "1e4d1feb",
   "metadata": {},
   "source": [
    "Q4. What are the values of the following expressions?"
   ]
  },
  {
   "cell_type": "code",
   "execution_count": 5,
   "id": "f3c2c8bf",
   "metadata": {},
   "outputs": [
    {
     "name": "stdout",
     "output_type": "stream",
     "text": [
      "False\n",
      "False\n",
      "True\n",
      "False\n",
      "False\n",
      "True\n"
     ]
    }
   ],
   "source": [
    "print((5>4) and (3==5))\n",
    "print(not(5>4))\n",
    "print((5>4) or (3==5))\n",
    "print(not(5>4) or (3==5))\n",
    "print((True and True) and (True==False))\n",
    "print((not(False))or(not(True)))"
   ]
  },
  {
   "cell_type": "markdown",
   "id": "7dcfd402",
   "metadata": {},
   "source": [
    "\n",
    "     "
   ]
  },
  {
   "cell_type": "markdown",
   "id": "2afa1fdf",
   "metadata": {},
   "source": [
    "Q5. What are the six comparison operators?"
   ]
  },
  {
   "cell_type": "code",
   "execution_count": null,
   "id": "c1db1700",
   "metadata": {},
   "outputs": [],
   "source": [
    "Ans:- ==, !=, <, >, <=, and >="
   ]
  },
  {
   "cell_type": "markdown",
   "id": "246e1585",
   "metadata": {},
   "source": [
    "Q6. How do you tell the difference between the equal to and assignment operators?Describe a condition and when you would use one."
   ]
  },
  {
   "cell_type": "markdown",
   "id": "1cb4f754",
   "metadata": {},
   "source": [
    "Ans:-  == is the equal to operator that compares two values and        evaluates to a Boolean, while = is the assignment               operator that stores a value in a variable."
   ]
  },
  {
   "cell_type": "code",
   "execution_count": 4,
   "id": "0ce6aebd",
   "metadata": {},
   "outputs": [
    {
     "name": "stdout",
     "output_type": "stream",
     "text": [
      "False\n",
      "c = 1\n"
     ]
    }
   ],
   "source": [
    "#eg.\n",
    "\n",
    "# Equal To Operator\n",
    "if(2==3):\n",
    "    print(\"True\")\n",
    "else:\n",
    "    print(\"False\")\n",
    "#Assignment operator\n",
    "c=1 #here we have used assignment operator(=) to assign value of c which is 1\n",
    "print(\"c =\",c)"
   ]
  },
  {
   "cell_type": "markdown",
   "id": "f6865745",
   "metadata": {},
   "source": []
  },
  {
   "cell_type": "markdown",
   "id": "e053ca43",
   "metadata": {},
   "source": [
    "Q7. Identify the three blocks in this code:"
   ]
  },
  {
   "cell_type": "code",
   "execution_count": 3,
   "id": "d038d88d",
   "metadata": {},
   "outputs": [
    {
     "name": "stdout",
     "output_type": "stream",
     "text": [
      "ham\n",
      "spam\n",
      "spam\n"
     ]
    }
   ],
   "source": [
    "spam = 0\n",
    "if spam == 10:\n",
    "    print('eggs') #Block 1\n",
    "if spam > 5:\n",
    "    print('bacon') #Block 2\n",
    "else:\n",
    "    print('ham') #Block 3\n",
    "    print('spam')\n",
    "    print('spam')"
   ]
  },
  {
   "cell_type": "markdown",
   "id": "938906f3",
   "metadata": {},
   "source": [
    "Q8. Write code that prints Hello if 1 is stored in spam, prints Howdy if 2 is stored in spam, and prints Greetings! if anything else is stored in spam."
   ]
  },
  {
   "cell_type": "code",
   "execution_count": 6,
   "id": "13560147",
   "metadata": {},
   "outputs": [
    {
     "name": "stdout",
     "output_type": "stream",
     "text": [
      "Input a no.1\n",
      "Hello\n"
     ]
    }
   ],
   "source": [
    "spam = int(input(\"Input a no.\"))\n",
    "if spam == 1:\n",
    "    print(\"Hello\")\n",
    "elif spam == 2:\n",
    "    print(\"Howdy\")\n",
    "else:\n",
    "    print(\"Greetings!\")"
   ]
  },
  {
   "cell_type": "markdown",
   "id": "eacb93a9",
   "metadata": {},
   "source": [
    "Q9.If your programme is stuck in an endless loop, what keys you’ll press?"
   ]
  },
  {
   "cell_type": "markdown",
   "id": "1eb31cf9",
   "metadata": {},
   "source": [
    "Ans:- If program is stuck in endless loop we will press ctrl+c."
   ]
  },
  {
   "cell_type": "markdown",
   "id": "6ffe415c",
   "metadata": {},
   "source": [
    "Q10. How can you tell the difference between break and continue?"
   ]
  },
  {
   "cell_type": "code",
   "execution_count": 7,
   "id": "a25e6abd",
   "metadata": {},
   "outputs": [
    {
     "name": "stdout",
     "output_type": "stream",
     "text": [
      "0\n",
      "1\n",
      "2\n",
      "3\n",
      "4\n",
      "5\n",
      "6\n",
      "Breaked\n",
      "0\n",
      "1\n",
      "2\n",
      "3\n",
      "4\n",
      "5\n",
      "6\n",
      "8\n",
      "9\n"
     ]
    }
   ],
   "source": [
    "# use of break\n",
    "for i in range(10):\n",
    "    if(i==7):\n",
    "        break\n",
    "    print(i)\n",
    "    \n",
    "print('Breaked')\n",
    "#use of  continue\n",
    "for i in range(10):\n",
    "    if(i==7):\n",
    "        continue\n",
    "    print(i)"
   ]
  },
  {
   "cell_type": "markdown",
   "id": "0918da29",
   "metadata": {},
   "source": [
    "Ans . The break statement will move the execution outside and just after a loop. The continue statement will move the execution to the start of the loop."
   ]
  },
  {
   "cell_type": "markdown",
   "id": "edbdaffd",
   "metadata": {},
   "source": [
    "Q11. In a for loop, what is the difference between range(10), range(0, 10), and range(0, 10, 1)?"
   ]
  },
  {
   "cell_type": "code",
   "execution_count": 8,
   "id": "6723a20e",
   "metadata": {},
   "outputs": [
    {
     "name": "stdout",
     "output_type": "stream",
     "text": [
      "0\n",
      "1\n",
      "2\n",
      "3\n",
      "4\n",
      "5\n",
      "6\n",
      "7\n",
      "8\n",
      "9\n",
      "xxxxxxxxxxxxxxxxxxxxxxxxxxxxxxxxxxxxxxxxxxxxxxxxxxxxxxxxxxxxxxxxxxxxxxxxxxxxxxxxxxxxxx\n",
      "0\n",
      "1\n",
      "2\n",
      "3\n",
      "4\n",
      "5\n",
      "6\n",
      "7\n",
      "8\n",
      "9\n",
      "xxxxxxxxxxxxxxxxxxxxxxxxxxxxxxxxxxxxxxxxxxxxxxxxxxxxxxxxxxxxxxxxxxxxxxxxxxxxxxxxxxxxxx\n",
      "0\n",
      "1\n",
      "2\n",
      "3\n",
      "4\n",
      "5\n",
      "6\n",
      "7\n",
      "8\n",
      "9\n"
     ]
    }
   ],
   "source": [
    "for i in range(10):\n",
    "    print(i)\n",
    "print(\"xxxxxxxxxxxxxxxxxxxxxxxxxxxxxxxxxxxxxxxxxxxxxxxxxxxxxxxxxxxxxxxxxxxxxxxxxxxxxxxxxxxxxx\") \n",
    "for i in range(0,10):\n",
    "    print(i)\n",
    "print(\"xxxxxxxxxxxxxxxxxxxxxxxxxxxxxxxxxxxxxxxxxxxxxxxxxxxxxxxxxxxxxxxxxxxxxxxxxxxxxxxxxxxxxx\")\n",
    "for i in range(0,10,1):\n",
    "    print(i)"
   ]
  },
  {
   "cell_type": "markdown",
   "id": "1d81907f",
   "metadata": {},
   "source": [
    "From the above output we can conclude that they all do the same thing. The range(10) call ranges from 0 up to (but not including) 10, range(0, 10) tells the loop to start at 0, and range(0, 10, 1) tells the loop to increase the variable by 1 on each iteration."
   ]
  },
  {
   "cell_type": "markdown",
   "id": "863db589",
   "metadata": {},
   "source": [
    "Q12. Write a short program that prints the numbers 1 to 10 using a for loop. Then write an equivalent program that prints the numbers 1 to 10 using a while loop."
   ]
  },
  {
   "cell_type": "code",
   "execution_count": 9,
   "id": "67b55cba",
   "metadata": {},
   "outputs": [
    {
     "name": "stdout",
     "output_type": "stream",
     "text": [
      "For Loop\n",
      "1\n",
      "2\n",
      "3\n",
      "4\n",
      "5\n",
      "6\n",
      "7\n",
      "8\n",
      "9\n",
      "10\n",
      "While Loop\n",
      "1\n",
      "2\n",
      "3\n",
      "4\n",
      "5\n",
      "6\n",
      "7\n",
      "8\n",
      "9\n",
      "10\n"
     ]
    }
   ],
   "source": [
    "#Use of For Loop\n",
    "print(\"For Loop\")\n",
    "for i in range(1,11):\n",
    "    print(i)\n",
    "#Use of While Loop\n",
    "print(\"While Loop\")\n",
    "a =1\n",
    "while a <= 10:\n",
    "    print(a)\n",
    "    a+=1"
   ]
  },
  {
   "cell_type": "markdown",
   "id": "bafd685d",
   "metadata": {},
   "source": [
    "Q13. If you had a function named bacon() inside a module named spam, how would you call it after importing spam?"
   ]
  },
  {
   "cell_type": "markdown",
   "id": "08547c19",
   "metadata": {},
   "source": [
    "Ans:- This function can be called with spam.bacon()."
   ]
  },
  {
   "cell_type": "code",
   "execution_count": null,
   "id": "84b4da5d",
   "metadata": {},
   "outputs": [],
   "source": []
  }
 ],
 "metadata": {
  "kernelspec": {
   "display_name": "Python 3 (ipykernel)",
   "language": "python",
   "name": "python3"
  },
  "language_info": {
   "codemirror_mode": {
    "name": "ipython",
    "version": 3
   },
   "file_extension": ".py",
   "mimetype": "text/x-python",
   "name": "python",
   "nbconvert_exporter": "python",
   "pygments_lexer": "ipython3",
   "version": "3.11.4"
  }
 },
 "nbformat": 4,
 "nbformat_minor": 5
}
