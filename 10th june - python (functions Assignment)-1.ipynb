{
 "cells": [
  {
   "cell_type": "markdown",
   "id": "9dd4f1e7",
   "metadata": {},
   "source": [
    "1. In Python, what is the difference between a built-in function and a user-defined function? Provide an\n",
    "example of each."
   ]
  },
  {
   "cell_type": "markdown",
   "id": "568df472",
   "metadata": {},
   "source": [
    "Ans: If you define the function yourself, it is a user-defined function.on the other hand,\n",
    "    the python function that come along with python are know as in-built functions. \n",
    "    \n",
    "    example :\n",
    "        "
   ]
  },
  {
   "cell_type": "code",
   "execution_count": null,
   "id": "e63ab771",
   "metadata": {},
   "outputs": [],
   "source": []
  },
  {
   "cell_type": "markdown",
   "id": "df24341e",
   "metadata": {},
   "source": [
    "2. How can you pass arguments to a function in Python? Explain the difference between positional\n",
    "arguments and keyword arguments."
   ]
  },
  {
   "cell_type": "markdown",
   "id": "fc3a765e",
   "metadata": {},
   "source": [
    "Ans: Information can be passed into function as arguments. Arguments are specified after the function name ,inside the              parentheses. you can add as many arguments as you want, just separate then with a comma. \n",
    "     Positinal arguments must be included in the correct order.\n",
    "     Keyword arguments are included with a keyword and equal sign."
   ]
  },
  {
   "cell_type": "markdown",
   "id": "e53add96",
   "metadata": {},
   "source": [
    "3. What is the purpose of the return statement in a function? Can a function have multiple return\n",
    "statements? Explain with an example."
   ]
  },
  {
   "cell_type": "markdown",
   "id": "cd9c7d98",
   "metadata": {},
   "source": [
    "Ans: A return statement is used to end the execution of the function call and \"return\" the result to the caller. \n",
    "     The statements after the return statements are not executed. if the return statements is without any expression ,\n",
    "     then the special value None is returned\n"
   ]
  },
  {
   "cell_type": "code",
   "execution_count": null,
   "id": "a8b94277",
   "metadata": {},
   "outputs": [],
   "source": []
  },
  {
   "cell_type": "markdown",
   "id": "34a649c1",
   "metadata": {},
   "source": [
    "4. What are lambda functions in Python? How are they different from regular functions? Provide an\n",
    "example where a lambda function can be useful."
   ]
  },
  {
   "cell_type": "markdown",
   "id": "d6739561",
   "metadata": {},
   "source": [
    "Ans: A lambda function is an anonymous function (i.e.,defined without a name) that can take any number of arguments but, unlike\n",
    "     a noraml function , evaluates and returns only one expression . Note that , unlike a normal function , we don't surround \n",
    "     parametersof lambda function with parentheses."
   ]
  },
  {
   "cell_type": "markdown",
   "id": "15fb98c9",
   "metadata": {},
   "source": [
    "5. How does the concept of \"scope\" apply to functions in Python? Explain the difference between local\n",
    "scope and global scope."
   ]
  },
  {
   "cell_type": "markdown",
   "id": "b2434401",
   "metadata": {},
   "source": [
    "Ans: Local (or function) scope is the code block or body of any python function or lambda expression.\n",
    "     This python scope contains the names that you define inside the function. These names will only be visible from the code \n",
    "     of the function.\n",
    "     The scope of global variable is the entire program whereas the scope of local variable is limited to the function where it \n",
    "     is defined."
   ]
  },
  {
   "cell_type": "markdown",
   "id": "dbf03902",
   "metadata": {},
   "source": [
    "6. How can you use the \"return\" statement in a Python function to return multiple values?"
   ]
  },
  {
   "cell_type": "markdown",
   "id": "b5a4a00f",
   "metadata": {},
   "source": [
    "Ans: Using Comma-separated values (tuples):\n",
    "     In this method, we use python to return multiple values by simply separating them by using commas.\n",
    "\n",
    "     "
   ]
  },
  {
   "cell_type": "code",
   "execution_count": null,
   "id": "d66f7adf",
   "metadata": {},
   "outputs": [],
   "source": []
  },
  {
   "cell_type": "markdown",
   "id": "b943ae55",
   "metadata": {},
   "source": [
    "7. What is the difference between the \"pass by value\" and \"pass by reference\" concepts when it\n",
    "comes to function arguments in Python?"
   ]
  },
  {
   "cell_type": "markdown",
   "id": "f3d24c8e",
   "metadata": {},
   "source": [
    "Ans: Pass by value refers to a mechanism of copying the function parameter value to another variable while the pass by reference refers to a mechanism of passing the actual parameters to the function. Thus , thise is the main diffeence between pass by value and pass by reference."
   ]
  },
  {
   "cell_type": "markdown",
   "id": "facb7975",
   "metadata": {},
   "source": [
    "8. Create a function that can intake integer or decimal value and do following operations:\n",
    "a. Logarithmic function (log x)\n",
    "b. Exponential function (exp(x))\n",
    "c. Power function with base 2 (2x)\n",
    "\n",
    "\n",
    "d. Square root"
   ]
  },
  {
   "cell_type": "code",
   "execution_count": null,
   "id": "337c1744",
   "metadata": {},
   "outputs": [],
   "source": []
  },
  {
   "cell_type": "code",
   "execution_count": null,
   "id": "c4cee919",
   "metadata": {},
   "outputs": [],
   "source": []
  },
  {
   "cell_type": "markdown",
   "id": "3bb62b03",
   "metadata": {},
   "source": [
    "9. Create a function that takes a full name as an argument and returns first name and last name."
   ]
  },
  {
   "cell_type": "markdown",
   "id": "06c4d79c",
   "metadata": {},
   "source": []
  }
 ],
 "metadata": {
  "kernelspec": {
   "display_name": "Python 3 (ipykernel)",
   "language": "python",
   "name": "python3"
  },
  "language_info": {
   "codemirror_mode": {
    "name": "ipython",
    "version": 3
   },
   "file_extension": ".py",
   "mimetype": "text/x-python",
   "name": "python",
   "nbconvert_exporter": "python",
   "pygments_lexer": "ipython3",
   "version": "3.11.4"
  }
 },
 "nbformat": 4,
 "nbformat_minor": 5
}
