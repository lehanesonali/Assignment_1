{
 "cells": [
  {
   "cell_type": "markdown",
   "id": "c1ad8016",
   "metadata": {},
   "source": [
    "                python Basic - 2"
   ]
  },
  {
   "cell_type": "markdown",
   "id": "5c3d0b3c",
   "metadata": {},
   "source": [
    "Q.1. Create two int type variables, apply addition, subtraction, division and multiplications\n",
    "and store the results in variables. Then print the data in the following format by calling the\n",
    "variables:"
   ]
  },
  {
   "cell_type": "code",
   "execution_count": null,
   "id": "84c30682",
   "metadata": {},
   "outputs": [],
   "source": [
    "First variable is __ & second variable is __.\n",
    "Addition: __ + __ = __\n",
    "Subtraction: __ - __ = __\n",
    "Multiplication: __ * __ = __\n",
    "Division: __ / __ = __"
   ]
  },
  {
   "cell_type": "code",
   "execution_count": 15,
   "id": "26c025b1",
   "metadata": {},
   "outputs": [
    {
     "name": "stdout",
     "output_type": "stream",
     "text": [
      "Enter two numbers:\n",
      "1\n",
      "2\n",
      "Addition= 3\n",
      "Sub= -1\n",
      "Multi= 2\n",
      "Div= 0.5\n"
     ]
    }
   ],
   "source": [
    "\n",
    "    print(\"Enter two numbers:\")\n",
    "    a=int(input())\n",
    "    b=int(input())\n",
    "    \n",
    "    c=a+b\n",
    "    print(\"Addition=\",c)\n",
    "    \n",
    "    s=a-b\n",
    "    print(\"Sub=\",s)\n",
    "    \n",
    "    m=a*b\n",
    "    print(\"Multi=\",m)\n",
    "    \n",
    "    d=a/b\n",
    "    print(\"Div=\",d)\n",
    "    "
   ]
  },
  {
   "cell_type": "code",
   "execution_count": null,
   "id": "859c38a4",
   "metadata": {},
   "outputs": [],
   "source": []
  },
  {
   "cell_type": "code",
   "execution_count": null,
   "id": "809e4472",
   "metadata": {},
   "outputs": [],
   "source": [
    "Q.2. What is the difference between the following operators:\n",
    "(i) ‘/’ & ‘//’\n",
    "(ii) ‘**’ & ‘^’"
   ]
  },
  {
   "cell_type": "code",
   "execution_count": null,
   "id": "534c5da2",
   "metadata": {},
   "outputs": [],
   "source": [
    "i) '/' it is perform  division and result in float or integer means original result\n",
    "   '//' it is perform division and result in integer value\n",
    "    \n",
    "ii)'**' this operator is used for find the power of given number\n",
    "   '^'  this operator is bitwise XOR"
   ]
  },
  {
   "cell_type": "code",
   "execution_count": null,
   "id": "de5e23fa",
   "metadata": {},
   "outputs": [],
   "source": []
  },
  {
   "cell_type": "code",
   "execution_count": null,
   "id": "67ff624f",
   "metadata": {},
   "outputs": [],
   "source": [
    "Q.3. List the logical operators ?"
   ]
  },
  {
   "cell_type": "code",
   "execution_count": null,
   "id": "564e111f",
   "metadata": {},
   "outputs": [],
   "source": [
    "Ans:- logical operators  and , or , and not ."
   ]
  },
  {
   "cell_type": "markdown",
   "id": "75bbed46",
   "metadata": {},
   "source": [
    "Q.4. Explain right shift operator and left shift operator with examples."
   ]
  },
  {
   "cell_type": "code",
   "execution_count": null,
   "id": "7ff053d6",
   "metadata": {},
   "outputs": [],
   "source": [
    "Ans:- The bitwise shift operators are the right-shift operators(>>),\n",
    "      which moves the bits of an integer or enumeration type expression to the right.\n",
    "      \n",
    "       Example : 10>>1=5\n",
    "        \n",
    "        The left-shift operator (<<), \n",
    "        which moves the bits to the left.\n",
    "        \n",
    "        Example :  10<<2=40\n",
    "            "
   ]
  },
  {
   "cell_type": "code",
   "execution_count": null,
   "id": "ee6e3c42",
   "metadata": {},
   "outputs": [],
   "source": []
  },
  {
   "cell_type": "markdown",
   "id": "2605b8e5",
   "metadata": {},
   "source": [
    "Q.5. Create a list containing int type data of length 15. Then write a code to check if 10 is\n",
    "present in the list or not."
   ]
  },
  {
   "cell_type": "code",
   "execution_count": 3,
   "id": "d8481b7e",
   "metadata": {},
   "outputs": [
    {
     "name": "stdout",
     "output_type": "stream",
     "text": [
      "[1, 2, 3, 4, 5, 6, 7, 8, 9, 10, 11, 12, 13, 14, 15]\n",
      "10 is present in the list.\n"
     ]
    }
   ],
   "source": [
    " # list of int \n",
    "list = [1,2,3,4,5,6,7,8,9,10,11,12,13,14,15]\n",
    "print(list)\n",
    "    \n",
    "# Check if  10 is present in the list \n",
    "\n",
    " if 10 in list :\n",
    "    print(\"10 is present in the list.\")\n",
    "    \n",
    "else: \n",
    "    print(\"print(10 is not present in the list)\")"
   ]
  },
  {
   "cell_type": "code",
   "execution_count": null,
   "id": "7022e843",
   "metadata": {},
   "outputs": [],
   "source": []
  }
 ],
 "metadata": {
  "kernelspec": {
   "display_name": "Python 3 (ipykernel)",
   "language": "python",
   "name": "python3"
  },
  "language_info": {
   "codemirror_mode": {
    "name": "ipython",
    "version": 3
   },
   "file_extension": ".py",
   "mimetype": "text/x-python",
   "name": "python",
   "nbconvert_exporter": "python",
   "pygments_lexer": "ipython3",
   "version": "3.11.4"
  }
 },
 "nbformat": 4,
 "nbformat_minor": 5
}
