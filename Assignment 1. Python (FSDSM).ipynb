{
 "cells": [
  {
   "cell_type": "code",
   "execution_count": null,
   "id": "2af3c0ef",
   "metadata": {},
   "outputs": [],
   "source": [
    "Q 1. In the below element which of them are value or an expression? eg:-value can be integer or string and expressions will be mathematical operators.\n",
    "\n",
    "1.  *\n",
    "\n",
    "2. 'hello'\n",
    "\n",
    "3.  -87.8\n",
    "\n",
    "4.   -\n",
    "\n",
    "5.  /\n",
    "\n",
    "6.  +\n",
    "\n",
    "7.  6"
   ]
  },
  {
   "cell_type": "markdown",
   "id": "035acc46",
   "metadata": {},
   "source": [
    "ans"
   ]
  },
  {
   "cell_type": "code",
   "execution_count": null,
   "id": "44d92f57",
   "metadata": {},
   "outputs": [],
   "source": [
    "1.  * is a mathematical operator.\n"
   ]
  },
  {
   "cell_type": "code",
   "execution_count": null,
   "id": "6b3b7e62",
   "metadata": {},
   "outputs": [],
   "source": [
    "2. 'hello' is a string"
   ]
  },
  {
   "cell_type": "code",
   "execution_count": null,
   "id": "bc0c847b",
   "metadata": {},
   "outputs": [],
   "source": [
    "3.  '-87.8' is a numeric value (floating piont numbers)."
   ]
  },
  {
   "cell_type": "code",
   "execution_count": null,
   "id": "9288a3d2",
   "metadata": {},
   "outputs": [],
   "source": [
    "4.  '-' is a mathematical operator (subtraction)"
   ]
  },
  {
   "cell_type": "code",
   "execution_count": null,
   "id": "d8d670df",
   "metadata": {},
   "outputs": [],
   "source": [
    "5.   '/' is a mathematical operator (division)"
   ]
  },
  {
   "cell_type": "code",
   "execution_count": null,
   "id": "1a0ba798",
   "metadata": {},
   "outputs": [],
   "source": [
    "6.   '+' is a matematical operator (addition)"
   ]
  },
  {
   "cell_type": "code",
   "execution_count": null,
   "id": "9468a6c9",
   "metadata": {},
   "outputs": [],
   "source": [
    "7.   '6' is a numeric value (integer)."
   ]
  },
  {
   "cell_type": "markdown",
   "id": "df5b441f",
   "metadata": {},
   "source": [
    "Q 2.  What is difference between string and variable?"
   ]
  },
  {
   "cell_type": "markdown",
   "id": "b695ccde",
   "metadata": {},
   "source": [
    "ans:- variable is a named container that holds a value and strings are represent test.\n"
   ]
  },
  {
   "cell_type": "markdown",
   "id": "3221e616",
   "metadata": {},
   "source": [
    "Q 3. Describe three different data type."
   ]
  },
  {
   "cell_type": "markdown",
   "id": "c277923c",
   "metadata": {},
   "source": [
    "ans:- 1. Numeric\n",
    "      2. Sequence type\n",
    "      3. Boolean "
   ]
  },
  {
   "cell_type": "markdown",
   "id": "5898e0b4",
   "metadata": {},
   "source": [
    "Q 4. What is an expression made up of? What do all expressions       do?"
   ]
  },
  {
   "cell_type": "markdown",
   "id": "4e876dd5",
   "metadata": {},
   "source": [
    "Ans:-  An exprassion is a combination of values,variable, operators, and calls functions.\n",
    "Expressions need to be evaluated."
   ]
  },
  {
   "cell_type": "markdown",
   "id": "d92bee9a",
   "metadata": {},
   "source": [
    "Q5. This assignment statements, like spam = 10. What is the difference between an\n",
    "expression and a statement?"
   ]
  },
  {
   "cell_type": "markdown",
   "id": "e5a64a3c",
   "metadata": {},
   "source": [
    "Ans:- An expression a combination of values .that can be evaluted to produce a result . Ex , \"10 + 5\" ia a expression that evauates to 15.\n",
    "\n",
    "A statement is a code that performs an action or a sequence of actions.an assignment statement like \"spam=10\"is a statement that assigns the value 10 to the variable named \"spam\". "
   ]
  },
  {
   "cell_type": "markdown",
   "id": "c3a07be3",
   "metadata": {},
   "source": [
    "Q6. After running the following code, what does the variable bacon contain?\n",
    "bacon = 22\n",
    "bacon + 1"
   ]
  },
  {
   "cell_type": "markdown",
   "id": "f757d35c",
   "metadata": {},
   "source": [
    " Ans:-bacon contain 23."
   ]
  },
  {
   "cell_type": "code",
   "execution_count": 11,
   "id": "2051bd31",
   "metadata": {},
   "outputs": [],
   "source": [
    "Q7. What should the values of the following two terms be?\n",
    "  'spam' + 'spamspam'\n",
    "  'spam'*3"
   ]
  },
  {
   "cell_type": "code",
   "execution_count": 13,
   "id": "ab222432",
   "metadata": {},
   "outputs": [],
   "source": [
    "Ans:- 'spamspamspam'."
   ]
  },
  {
   "cell_type": "markdown",
   "id": "28d29896",
   "metadata": {},
   "source": [
    "Q8. Why is eggs a valid variable name while 100 is invalid?"
   ]
  },
  {
   "cell_type": "markdown",
   "id": "258fbba9",
   "metadata": {},
   "source": [
    "Ans:- because variable name can only contain letters, digits, and underscores. they can not connot spaces or other special characters."
   ]
  },
  {
   "cell_type": "markdown",
   "id": "5da0b9bc",
   "metadata": {},
   "source": [
    "Q9. What three functions can be used to get the integer, floating-point number, or string\n",
    "version of a value?"
   ]
  },
  {
   "cell_type": "markdown",
   "id": "20599e2a",
   "metadata": {},
   "source": [
    "Ans:- 1 'int()'\n",
    "     2 'float()'\n",
    "     3 'str()'"
   ]
  },
  {
   "cell_type": "code",
   "execution_count": null,
   "id": "b4f1e45c",
   "metadata": {},
   "outputs": [],
   "source": [
    "Q10. Why does this expression cause an error? How can you fix it?\n",
    "'i have eaten'+99+'burritos.'"
   ]
  },
  {
   "cell_type": "code",
   "execution_count": null,
   "id": "22577fdd",
   "metadata": {},
   "outputs": [],
   "source": [
    "Ans:- trying to concatenate a string with an integer directly. because showing this error.\n",
    "    \n",
    "    to fix the error, use the string function to convert the integer to a string. "
   ]
  },
  {
   "cell_type": "code",
   "execution_count": null,
   "id": "57ebce8b",
   "metadata": {},
   "outputs": [],
   "source": [
    "    like this : 'i have eaten'+str(99) + 'burritos'"
   ]
  },
  {
   "cell_type": "code",
   "execution_count": null,
   "id": "8fa53a49",
   "metadata": {},
   "outputs": [],
   "source": [
    "    this integer'99' convert to the string'99' and then perform the concatenation with the other strins, resulting in \n",
    "    'i have'eaten99burritos'."
   ]
  }
 ],
 "metadata": {
  "kernelspec": {
   "display_name": "Python 3 (ipykernel)",
   "language": "python",
   "name": "python3"
  },
  "language_info": {
   "codemirror_mode": {
    "name": "ipython",
    "version": 3
   },
   "file_extension": ".py",
   "mimetype": "text/x-python",
   "name": "python",
   "nbconvert_exporter": "python",
   "pygments_lexer": "ipython3",
   "version": "3.11.4"
  }
 },
 "nbformat": 4,
 "nbformat_minor": 5
}
