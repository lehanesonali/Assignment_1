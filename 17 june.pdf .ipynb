{
 "cells": [
  {
   "cell_type": "markdown",
   "id": "70cb9e8e",
   "metadata": {},
   "source": [
    "1. What is the role of try and exception block?"
   ]
  },
  {
   "cell_type": "markdown",
   "id": "3b96e772",
   "metadata": {},
   "source": [
    "Ans:- The try and except block in python is used to catch and handle exceptions. Python executes code following the try               statement as a \"noraml\" part of the program. The code that follows the excep statement is the program's response to any          exceptionin the preceding try clause."
   ]
  },
  {
   "cell_type": "markdown",
   "id": "bbd4daa8",
   "metadata": {},
   "source": [
    "2. What is the syntax for a basic try-except block?"
   ]
  },
  {
   "cell_type": "markdown",
   "id": "48e874ef",
   "metadata": {},
   "source": [
    "Ans:- First ,the try clause is executed i.e the code between try .if there is no exception, then only the try clause will run,\n",
    "       except clause is finished. if any exception occurs, the try clause will be skipped and except clause will run."
   ]
  },
  {
   "cell_type": "markdown",
   "id": "f3787c2f",
   "metadata": {},
   "source": [
    "3. What happens if an exception occurs inside a try block and there is no matching\n",
    "except block?"
   ]
  },
  {
   "cell_type": "markdown",
   "id": "432ba07a",
   "metadata": {},
   "source": [
    "Ans:- If an exception occurs which dose not match the exception named in the except clause , it no handler is found,\n",
    "       it is an unhandled exception and execution stops with an error message."
   ]
  },
  {
   "cell_type": "markdown",
   "id": "070ecdb7",
   "metadata": {},
   "source": [
    "4. What is the difference between using a bare except block and specifying a specific\n",
    "exception type?"
   ]
  },
  {
   "cell_type": "markdown",
   "id": "58540c94",
   "metadata": {},
   "source": [
    "Ans:- A bare except: clause will catch SystemExit and Keyboardlnterrupt exceptions, making it harder to interrupt a\n",
    "      program with Control-C , and can disguise other problems. if you want to catch all exceptions that signal program errors,\n",
    "      use except Exception :(bare except is equivalent to except BaseException:)"
   ]
  },
  {
   "cell_type": "markdown",
   "id": "fc4e6bfb",
   "metadata": {},
   "source": [
    "5. Can you have nested try-except blocks in Python? If yes, then give an example."
   ]
  },
  {
   "cell_type": "code",
   "execution_count": 10,
   "id": "c57945e4",
   "metadata": {},
   "outputs": [
    {
     "name": "stdout",
     "output_type": "stream",
     "text": [
      "10/2) is 5.0\n",
      "division by zero\n",
      "10/4) is 2.5\n"
     ]
    }
   ],
   "source": [
    " Ans:- In a python program, if there is another try- except construct either inside either a try block or inside its except \n",
    "block, it is know as a nested-try block.\n",
    "EX :\n",
    "def divide(x,y):\n",
    "    try :\n",
    "        print(f'{x}/{y}) is {x/y}')\n",
    "    except ZeroDivisionError as e:\n",
    "         print(e)\n",
    "divide(10,2)\n",
    "divide(10,0)\n",
    "divide(10,4)"
   ]
  },
  {
   "cell_type": "markdown",
   "id": "e8986ae8",
   "metadata": {},
   "source": [
    "6. Can we use multiple exception blocks, if yes then give an example."
   ]
  },
  {
   "cell_type": "markdown",
   "id": "79c74a98",
   "metadata": {},
   "source": [
    "Ans:- Using Multiple Except Blocks. Using separate except blocks is another way to catch multiple exceptions in python. \n",
    "      This method allows you to handle different exception types in different ways, making it ideal when you need to perform\n",
    "        specific action for each type of exception."
   ]
  },
  {
   "cell_type": "code",
   "execution_count": null,
   "id": "4d6f2ce9",
   "metadata": {},
   "outputs": [],
   "source": [
    "7. Write the reason due to which following errors are raised:\n",
    "a. EOFError\n",
    "b. FloatingPointError\n",
    "c. IndexError\n",
    "d. MemoryError\n",
    "e. OverflowError\n",
    "f. TabError\n",
    "g. ValueError"
   ]
  },
  {
   "cell_type": "code",
   "execution_count": null,
   "id": "5c320ad0",
   "metadata": {},
   "outputs": [],
   "source": [
    "Ans:- a. EOFError = missing punctuation or anincorretly indented block.\n",
    "      b. FloatingpointError = invalid operation, division by zero, overflow , underflow, or exact.\n",
    "      c. IndexError = an attempt to access an item that doesn't exist within a data structure.\n",
    "      d. MemoryError = may be due to an issue in the setup of the python environment .\n",
    "      e. When any operations like arithmetic operation or any other variable storing any value above its limit then there                occurs an overflow of values that will exceed it's specified or already defined limits. \n",
    "      f. TabError = The error is only raised if you mix tabs and spaces in the same code block.\n",
    "      g. ValueError = if the value is incorrect for the intended operation or if the value is missing all together."
   ]
  },
  {
   "cell_type": "code",
   "execution_count": null,
   "id": "761536a9",
   "metadata": {},
   "outputs": [],
   "source": [
    "8. Write code for the following given scenario and add try-exception block to it.\n",
    "a. Program to divide two numbers\n",
    "b. Program to convert a string to an integer\n",
    "c. Program to access an element in a list\n",
    "d. Program to handle a specific exception\n",
    "e. Program to handle any exception"
   ]
  },
  {
   "cell_type": "code",
   "execution_count": null,
   "id": "1706a5c9",
   "metadata": {},
   "outputs": [],
   "source": [
    "Ans:  a. "
   ]
  },
  {
   "cell_type": "code",
   "execution_count": 3,
   "id": "daf155e6",
   "metadata": {},
   "outputs": [
    {
     "name": "stdout",
     "output_type": "stream",
     "text": [
      "Enter numerator :10\n",
      "result : 10.0\n"
     ]
    }
   ],
   "source": [
    " \n",
    "    try:\n",
    "        result = float (input (\"Enter numerator :\"))\n",
    "        print(\"result :\" , result)\n",
    "        \n",
    "    except Exception as e:\n",
    "        print(f\"Error:{e}\")\n",
    "        "
   ]
  },
  {
   "cell_type": "code",
   "execution_count": null,
   "id": "44e0e5c8",
   "metadata": {},
   "outputs": [],
   "source": [
    "b."
   ]
  },
  {
   "cell_type": "code",
   "execution_count": 14,
   "id": "f3035826",
   "metadata": {},
   "outputs": [
    {
     "name": "stdout",
     "output_type": "stream",
     "text": [
      "Enter a number as a string :25\n",
      "converted integer: 25\n"
     ]
    }
   ],
   "source": [
    "try :\n",
    "    number = int(input (\"Enter a number as a string :\"))\n",
    "    print(\"converted integer:\", number)\n",
    "    \n",
    "except ValueError:\n",
    "    print(\"Error: Input is not a valid integer.\")\n",
    "        "
   ]
  },
  {
   "cell_type": "code",
   "execution_count": null,
   "id": "883c5838",
   "metadata": {},
   "outputs": [],
   "source": [
    "c."
   ]
  },
  {
   "cell_type": "code",
   "execution_count": 2,
   "id": "94e635c4",
   "metadata": {},
   "outputs": [
    {
     "name": "stdout",
     "output_type": "stream",
     "text": [
      "Enter index:my_list\n",
      "Error : Invalid index.\n"
     ]
    }
   ],
   "source": [
    "my_list = [1,2,3,4,5]\n",
    "\n",
    "try:\n",
    "    index = int(input(\"Enter index:\"))\n",
    "    element= my_list[index]\n",
    "    print(\"Element at index\", index, \"is:\", element)\n",
    "    \n",
    "except (IndexError, ValueError):\n",
    "    print(\"Error : Invalid index.\")"
   ]
  },
  {
   "cell_type": "code",
   "execution_count": null,
   "id": "4bfbff29",
   "metadata": {},
   "outputs": [],
   "source": [
    "d."
   ]
  },
  {
   "cell_type": "code",
   "execution_count": 9,
   "id": "77dcc849",
   "metadata": {},
   "outputs": [
    {
     "name": "stdout",
     "output_type": "stream",
     "text": [
      "Enter a number:25\n",
      "You entered a valid number: 25\n"
     ]
    }
   ],
   "source": [
    "try:\n",
    "    number = int (input (\"Enter a number:\"))\n",
    "    if number < 0:\n",
    "        raise ValueError(\"Negative numbers are not allowed.\")\n",
    "    print(\"You entered a valid number:\", number)\n",
    "except ValueError as ve:\n",
    "    print( f\"Error: {ve}\")"
   ]
  },
  {
   "cell_type": "code",
   "execution_count": null,
   "id": "b1e7796d",
   "metadata": {},
   "outputs": [],
   "source": [
    "e."
   ]
  },
  {
   "cell_type": "code",
   "execution_count": 11,
   "id": "9470d48d",
   "metadata": {},
   "outputs": [
    {
     "name": "stdout",
     "output_type": "stream",
     "text": [
      "Enter something:sonali\n",
      "Error:invalid literal for int() with base 10: 'sonali'\n"
     ]
    }
   ],
   "source": [
    "try:\n",
    "    user_input = input (\"Enter something:\")\n",
    "    result = int (user_input)\n",
    "    print(\"You entered:\", result)\n",
    "except Exception as e:\n",
    "    print(f\"Error:{e}\")"
   ]
  },
  {
   "cell_type": "code",
   "execution_count": null,
   "id": "ac5c0a13",
   "metadata": {},
   "outputs": [],
   "source": []
  }
 ],
 "metadata": {
  "kernelspec": {
   "display_name": "Python 3 (ipykernel)",
   "language": "python",
   "name": "python3"
  },
  "language_info": {
   "codemirror_mode": {
    "name": "ipython",
    "version": 3
   },
   "file_extension": ".py",
   "mimetype": "text/x-python",
   "name": "python",
   "nbconvert_exporter": "python",
   "pygments_lexer": "ipython3",
   "version": "3.11.4"
  }
 },
 "nbformat": 4,
 "nbformat_minor": 5
}
